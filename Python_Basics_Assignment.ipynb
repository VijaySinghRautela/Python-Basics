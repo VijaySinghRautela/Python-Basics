{
  "nbformat": 4,
  "nbformat_minor": 0,
  "metadata": {
    "colab": {
      "provenance": []
    },
    "kernelspec": {
      "name": "python3",
      "display_name": "Python 3"
    },
    "language_info": {
      "name": "python"
    }
  },
  "cells": [
    {
      "cell_type": "markdown",
      "source": [
        "# Python Basics Assignment\n",
        "\n",
        "**1.** **What is Python, and why is it popular ?**\n",
        "   - Python is a high-level, interpreted, and general-purpose programming language. It is known for its simple and easy-to-read syntax, which makes it beginner-friendly and widely used in education as well as industry, it is widely used for tasks like web development, software development, data science, automation, mathematics, and system scripting.\n",
        "   - **Below are some point why phython is popular:**\n",
        "     - **Easy to understand:** Python's syntax is similar to English, making it accessible for beginners and helping experienced developers write and maintain code efficiently.\n",
        "     - **Versatile:** It is used in web development, data analytics, automation, artificial intelligence, scientific computing, and more, making it useful across industries.\n",
        "     - **Large Community & libraries:** It has thousand of libraries which saves time\n",
        "     - **Cross-Platform Compatibility:** Work on Windows,Mac,Linux.\n",
        "     - **Free and Open source:** You can download and use python without paying any license fees and it source code is publicly available and developers around the world can study, modify, and improve it.\n",
        "\n",
        "**2. What is an interpreter in Python ?**\n",
        "   - An interpreter in Python is a program that reads, processes, and executes Python code line by line, When you write a Python program, the interpreter reads your code, translates it into a form the computer understands, and then executes it using the Python Virtual Machine. Using an interpreter makes Python particularly beginner-friendly and highly suited for prototyping, automation, and scripting due to its interactive and dynamic nature.\n",
        "\n",
        "\n",
        "**3. What are pre-defined keywords in Python ?**\n",
        "   - Pre-defined keywords in Python are reserved words that have special meaning and specific functions within the language—they define the core rules and structure of Python code, so they cannot be used as names for variables, functions, or any other identifiers.Python currently has 35 keywords.For example: if, else, while, for, class, def, etc.\n",
        "\n",
        "**4. Can keywords be used as variable names ?**\n",
        "  - No,This will immediately generate an \"invalid syntax\" error. Keywords in Python are reserved words that have a special meaning for the interpreter.If you try to use a keyword as a variable name, Python will get confused, because it already uses that word to define syntax.\n",
        "\n",
        "**5. What is mutability in Python ?**\n",
        "   - In Python, mutability refers to whether an object can be changed after it is created. A mutable object allows modifications to its content or state without creating a new object, while an immutable object cannot be changed once created; any changes require creating a new object of the same type.\n",
        "   Some examples of mutable objects are - lists, dictionaries, and sets.\n",
        "  \n",
        "**6. Why are lists mutable, but tuples are immutable ?**\n",
        "   - The reason lists are mutable but tuples are immutable in Python stems from their design purpose and how they are implemented:\n",
        "     - Lists are designed for collections of items that are expected to change over time. This includes adding, removing, or modifying elements. Thus, lists are mutable to allow flexibility for dynamic data manipulation.\n",
        "     - Tuples are designed to represent fixed collections of items that should not change after creation. They are used for constant data, such as grouping values or returning multiple elements from a function. Their immutability ensures data integrity by preventing accidental changes.\n",
        "\n",
        "**7. What is the difference between “==” and “is” operators in Python ?**\n",
        "   - The difference between the \"==\" and \"is\" operators in Python is:\n",
        "     - \"==\" checks for equality of values. It evaluates to True if the values of the two objects being compared are the same, regardless of whether they are the same object in memory.\n",
        "     - \"is\" checks for identity of objects. It evaluates to True if both variables point to the exact same object in memory.\n",
        "\n",
        "**8. What are logical operators in Python ?**\n",
        "   - Logical operators in Python are used to combine conditional statements that evaluate to True or False, enabling decision-making based on multiple conditions. The three main logical operators in Python are:\n",
        "      - **and:** Returns True if both operands are True.\n",
        "      - **or:** Returns True if at least one of the operands is True.\n",
        "      - **not:** Returns True if the operand is False; it reverses the boolean value.\n",
        "\n",
        "**9. What is type casting in Python ?**\n",
        "   - Type casting in Python is the process of converting a variable from one data type to another. It allows you to change the type of a variable so it can be used in different operations.\n",
        "     \n",
        "\n",
        "**10. What is the difference between implicit and explicit type casting ?**\n",
        "  - Implicit type casting: Python automatically converts one data type to another without user intervention, usually to avoid data loss in operations.\n",
        "  - Explicit type casting: The user manually converts the data type using built-in functions.\n",
        "       - Common type casting functions:\n",
        "         - int(): Converts a value to an integer.\n",
        "         - float(): Converts a value to a floating-point number.\n",
        "         - str(): Converts a value to a string.\n",
        "\n",
        "**11. What is the purpose of conditional statements in Python ?**\n",
        "  -  The purpose of conditional statements in Python is to control the flow  of a program by making decisions based on specific conditions. They allow a program to execute particular blocks of code only when certain conditions are true, enabling the program to behave differently in different situations.Key Roles of Conditional Statements are Decision Making,Flow Control,Handling Multiple Outcomes. in short Conditional statements in Python are used to check conditions and control the flow of execution, so the program can make decisions just like humans do in real life.some examples are - if, if-else, if-elif-else etc.\n",
        "\n",
        "**12.  How does the elif statement work ?**\n",
        "  - The elif statement in Python stands for \"else if\" and is used to check multiple conditions sequentially after the initial if condition.\n",
        "       - If the first if condition is True, its block runs and the rest are skipped.\n",
        "       - If the first if is False, Python checks the next elif\n",
        "       - If an elif is True, its block runs and the rest are skipped.\n",
        "       - If none of the if or elif conditions are True, the else block runs (if present).\n",
        "\n",
        "**13. What is the difference between for and while loops ?**\n",
        "  - The difference between for and while loops in Python lies mainly in how they control iteration and when they are used:\n",
        "    - For Loop: Used when you want to iterate over a sequence (like list, tuple, string, or range).\n",
        "    - While Loop: Used when you want to repeat a block of code as long as a condition is true.\n",
        "\n",
        "**14. Describe a scenario where a while loop is more suitable than a for loop.**\n",
        "  - A while loop is more suitable when you don’t know in advance how many times the loop should run, and the repetition depends on a condition being true.\n",
        "    - Example: ATM PIN Verification System: When a user tries to enter their ATM PIN, you don’t know how many attempts they will need. The loop should continue until the correct PIN is entered or maximum attempts are used.\n",
        "    - In summary, while loops are ideal for indefinite or condition-based repetition, making them suited to scenarios where the number of iterations depends on external factors or runtime conditions."
      ],
      "metadata": {
        "id": "39q6-Ofyd3j_"
      }
    },
    {
      "cell_type": "markdown",
      "source": [
        "# Practical Questions Answers\n"
      ],
      "metadata": {
        "id": "BkxAmUpWd9Et"
      }
    },
    {
      "cell_type": "markdown",
      "source": [
        "**1. Write a Python program to print \"Hello, World! ?**"
      ],
      "metadata": {
        "id": "BrOTy3vnlHBP"
      }
    },
    {
      "cell_type": "code",
      "source": [
        "print(\"hello,World!\")"
      ],
      "metadata": {
        "colab": {
          "base_uri": "https://localhost:8080/"
        },
        "id": "RenwE66mkakF",
        "outputId": "c54cc54d-6062-4b85-825a-faac5b2fc5a0"
      },
      "execution_count": null,
      "outputs": [
        {
          "output_type": "stream",
          "name": "stdout",
          "text": [
            "hello,World!\n"
          ]
        }
      ]
    },
    {
      "cell_type": "markdown",
      "source": [
        "**2. Write a Python program that displays your name and age. ?**"
      ],
      "metadata": {
        "id": "gU71kypflNUa"
      }
    },
    {
      "cell_type": "code",
      "source": [
        "name = \"Vijay Singh Rautela\"\n",
        "age = 31\n",
        "print( \" My Name is\", name)\n",
        "print( \" I am\",age, \"year old\")"
      ],
      "metadata": {
        "colab": {
          "base_uri": "https://localhost:8080/"
        },
        "id": "4_1f-RR-k6kJ",
        "outputId": "e5a6c283-5c2d-469f-a7f3-1fba58032978"
      },
      "execution_count": null,
      "outputs": [
        {
          "output_type": "stream",
          "name": "stdout",
          "text": [
            " My Name is Vijay Singh Rautela\n",
            " I am 31 year old\n"
          ]
        }
      ]
    },
    {
      "cell_type": "markdown",
      "source": [
        "**3. Write code to print all the pre-defined keywords in Python using the keyword library. ?**"
      ],
      "metadata": {
        "id": "0jG08PN4m9wF"
      }
    },
    {
      "cell_type": "code",
      "source": [
        "import keyword\n",
        "print(\"list of Keyword\")\n",
        "print(keyword.kwlist)"
      ],
      "metadata": {
        "colab": {
          "base_uri": "https://localhost:8080/"
        },
        "id": "RTjD7udwk6nN",
        "outputId": "5d40e217-64ba-460e-daf2-4e6e2821f057"
      },
      "execution_count": null,
      "outputs": [
        {
          "output_type": "stream",
          "name": "stdout",
          "text": [
            "list of Keyword\n",
            "['False', 'None', 'True', 'and', 'as', 'assert', 'async', 'await', 'break', 'class', 'continue', 'def', 'del', 'elif', 'else', 'except', 'finally', 'for', 'from', 'global', 'if', 'import', 'in', 'is', 'lambda', 'nonlocal', 'not', 'or', 'pass', 'raise', 'return', 'try', 'while', 'with', 'yield']\n"
          ]
        }
      ]
    },
    {
      "cell_type": "markdown",
      "source": [
        "**4. Write a program that checks if a given word is a Python keyword.?**"
      ],
      "metadata": {
        "id": "-l7FXq9On_0w"
      }
    },
    {
      "cell_type": "code",
      "source": [
        "import keyword\n",
        "word = input(\"Enter a word: \")\n",
        "if word in keyword.kwlist:\n",
        "  print(word,\"is a python keyword\")\n",
        "else:\n",
        "  print(word, \"is not a python keyword\")"
      ],
      "metadata": {
        "colab": {
          "base_uri": "https://localhost:8080/"
        },
        "id": "UBhsPqVRk6qc",
        "outputId": "5d3adade-6cdb-4ba7-9bf5-92ded3805d17"
      },
      "execution_count": null,
      "outputs": [
        {
          "output_type": "stream",
          "name": "stdout",
          "text": [
            "Enter a word: for\n",
            "for is a python keyword\n"
          ]
        }
      ]
    },
    {
      "cell_type": "code",
      "source": [
        "import keyword\n",
        "word = input(\"Enter a word: \")\n",
        "if word in keyword.kwlist:\n",
        "  print(word,\"is a python keyword\")\n",
        "else:\n",
        "  print(word, \"is not a python keyword\")"
      ],
      "metadata": {
        "colab": {
          "base_uri": "https://localhost:8080/"
        },
        "id": "XoovMLKHk6s_",
        "outputId": "9f3eea1a-e36a-427b-8466-5adbe0236f15"
      },
      "execution_count": null,
      "outputs": [
        {
          "output_type": "stream",
          "name": "stdout",
          "text": [
            "Enter a word: vijay\n",
            "vijay is not a python keyword\n"
          ]
        }
      ]
    },
    {
      "cell_type": "markdown",
      "source": [
        "**5.** **Create a list and tuple in Python, and demonstrate how attempting to change an element works differently\n",
        "for each. ?**"
      ],
      "metadata": {
        "id": "2omJrXN_5i8A"
      }
    },
    {
      "cell_type": "code",
      "source": [
        "# Lists are mutable → you can change, add, or remove elements\n",
        "first_list = [1,2,3,4,5]\n",
        "first_list[1]=10\n",
        "print(\"updated first_list:\",first_list)"
      ],
      "metadata": {
        "colab": {
          "base_uri": "https://localhost:8080/"
        },
        "id": "8PVdN9IUo1iI",
        "outputId": "70fb7e32-d66d-474f-ae6d-996990d7c005"
      },
      "execution_count": null,
      "outputs": [
        {
          "output_type": "stream",
          "name": "stdout",
          "text": [
            "updated first_list: [1, 10, 3, 4, 5]\n"
          ]
        }
      ]
    },
    {
      "cell_type": "code",
      "source": [
        "# Tuples are immutable → once created, you cannot change their elements.\n",
        "first_tuple = (1,2,3,4,5)\n",
        "first_tuple[1]=10\n",
        "print(\"updated first_tuple:\",first_tuple)\n",
        "\n",
        "# it will show error"
      ],
      "metadata": {
        "id": "4k7g1coMp1f5"
      },
      "execution_count": null,
      "outputs": []
    },
    {
      "cell_type": "markdown",
      "source": [
        "**6. Write a function to demonstrate the behavior of mutable and immutable arguments.?**"
      ],
      "metadata": {
        "id": "6gLFtz1VqCUs"
      }
    },
    {
      "cell_type": "code",
      "source": [
        "def change_num(x):\n",
        "    x = x + 5\n",
        "    print(\"Inside function:\", x)\n",
        "\n",
        "num = 10\n",
        "change_num(num)\n",
        "print(\"Outside function:\", num)\n",
        "\n"
      ],
      "metadata": {
        "id": "n1cO8jw0qOX7",
        "colab": {
          "base_uri": "https://localhost:8080/"
        },
        "outputId": "93551097-f2df-4e30-ed04-ca808e6b8306"
      },
      "execution_count": 2,
      "outputs": [
        {
          "output_type": "stream",
          "name": "stdout",
          "text": [
            "Inside function: 15\n",
            "Outside function: 10\n"
          ]
        }
      ]
    },
    {
      "cell_type": "markdown",
      "source": [
        "**7.  Write a program that performs basic arithmetic operations on two user-input numbers.?**\n",
        "\n"
      ],
      "metadata": {
        "id": "a2VM_cGPrdjE"
      }
    },
    {
      "cell_type": "code",
      "source": [
        "number1= int(input(\"Enter first number:\",))\n",
        "number2= int(input(\"Enter second number:\",))\n",
        "\n",
        "print(\"addition:\",number1+number2)\n",
        "print(\"subtraction:\",number1-number2)\n",
        "print(\"multiplication:\",number1*number2)\n",
        "print(\"division:\",number1/number2)"
      ],
      "metadata": {
        "colab": {
          "base_uri": "https://localhost:8080/"
        },
        "id": "SuRyp25ftQt3",
        "outputId": "2f670d1e-db76-4946-b5a1-9e36a64492b0"
      },
      "execution_count": null,
      "outputs": [
        {
          "output_type": "stream",
          "name": "stdout",
          "text": [
            "Enter first number:2\n",
            "Enter second number:4\n",
            "addition: 6\n",
            "subtraction: -2\n",
            "multiplication: 8\n",
            "division: 0.5\n"
          ]
        }
      ]
    },
    {
      "cell_type": "markdown",
      "source": [
        "**8. Write a program to demonstrate the use of logical operators.?**"
      ],
      "metadata": {
        "id": "z9OLVKGbnyHP"
      }
    },
    {
      "cell_type": "code",
      "source": [
        "import builtins\n",
        "print = builtins.print\n",
        "\n",
        "age = int(input(\"Enter your age:\" ))\n",
        "citizen = input(\"Are you a citizen of india(yes/no):\" )\n",
        "if age >= 18 and citizen == \"yes\":\n",
        "  print(\"You are eligible to vote\")\n",
        "else:\n",
        "  print(\"You are not eligible to vote\")\n",
        "\n",
        "if age >= 18 or citizen == \"yes\":\n",
        "  print(\"One condition is fulfilled (Either age or citizen)\")\n",
        "else:\n",
        "  print(\"Both conditions are not fulfilled\")\n",
        "\n",
        "if not age >=18:\n",
        "  print(\"You are not eligible to vote\")\n",
        "else:\n",
        "  print(\"You are eligible to vote\")\n",
        "\n"
      ],
      "metadata": {
        "colab": {
          "base_uri": "https://localhost:8080/"
        },
        "id": "VNNB3DZ0n4YH",
        "outputId": "31b40320-b35c-429e-8a2f-d1fc7ccd66a0"
      },
      "execution_count": null,
      "outputs": [
        {
          "output_type": "stream",
          "name": "stdout",
          "text": [
            "Enter your age:19\n",
            "Are you a citizen of india(yes/no):no\n",
            "You are not eligible to vote\n",
            "One condition is fulfilled (Either age or citizen)\n",
            "You are eligible to vote\n"
          ]
        }
      ]
    },
    {
      "cell_type": "markdown",
      "source": [
        "**9. Write a Python program to convert user input from string to integer, float, and boolean types.?**"
      ],
      "metadata": {
        "id": "9bRnm5H4v9FG"
      }
    },
    {
      "cell_type": "code",
      "source": [
        "\n",
        "# Taking input from the user (always string by default)\n",
        "user_input = input(\"Enter a value: \")\n",
        "\n",
        "print(\"\\n--- Type Conversion Results ---\")\n",
        "\n",
        "# String (original input)\n",
        "print(f\"String: {user_input}  (type: {type(user_input)})\")\n",
        "\n",
        "# Convert to integer (if possible)\n",
        "try:\n",
        "    int_value = int(user_input)\n",
        "    print(f\"Integer: {int_value}  (type: {type(int_value)})\")\n",
        "except ValueError:\n",
        "    print(\"Integer: Conversion not possible\")\n",
        "\n",
        "# Convert to float (if possible)\n",
        "try:\n",
        "    float_value = float(user_input)\n",
        "    print(f\"Float: {float_value}  (type: {type(float_value)})\")\n",
        "except ValueError:\n",
        "    print(\"Float: Conversion not possible\")\n",
        "\n",
        "# Convert to boolean\n",
        "# Note: In Python, bool(\"any non-empty string\") = True, bool(\"\") = False\n",
        "bool_value = bool(user_input)\n",
        "print(f\"Boolean: {bool_value}  (type: {type(bool_value)})\")\n",
        "\n"
      ],
      "metadata": {
        "colab": {
          "base_uri": "https://localhost:8080/"
        },
        "id": "tpHkhRvLwCYY",
        "outputId": "69c73fa5-a953-45a5-e2b7-1579e1cf34fe"
      },
      "execution_count": null,
      "outputs": [
        {
          "output_type": "stream",
          "name": "stdout",
          "text": [
            "Enter a value: 10\n",
            "\n",
            "--- Type Conversion Results ---\n",
            "String: 10  (type: <class 'str'>)\n",
            "Integer: 10  (type: <class 'int'>)\n",
            "Float: 10.0  (type: <class 'float'>)\n",
            "Boolean: True  (type: <class 'bool'>)\n"
          ]
        }
      ]
    },
    {
      "cell_type": "markdown",
      "source": [
        "**10. Write code to demonstrate type casting with list elements.?**"
      ],
      "metadata": {
        "id": "u8jYovED3TWL"
      }
    },
    {
      "cell_type": "code",
      "source": [
        "# Original list with string numbers\n",
        "str_list = [\"10\", \"20\", \"30\", \"40\"]\n",
        "\n",
        "print(\"Original list (strings):\", str_list)\n",
        "\n",
        "# Convert list of strings to integers\n",
        "int_list = [int(x) for x in str_list]\n",
        "print(\"After converting to integers:\", int_list)\n",
        "\n",
        "# Convert list of strings to floats\n",
        "float_list = [float(x) for x in str_list]\n",
        "print(\"After converting to floats:\", float_list)\n",
        "\n",
        "# Convert integers back to strings\n",
        "string_list = [str(x) for x in int_list]\n",
        "print(\"After converting back to strings:\", string_list)\n",
        "\n",
        "# Boolean conversion (non-empty strings become True)\n",
        "bool_list = [bool(x) for x in str_list]\n",
        "print(\"After converting to booleans:\", bool_list)\n"
      ],
      "metadata": {
        "id": "9yvXFAGc3fPs",
        "colab": {
          "base_uri": "https://localhost:8080/"
        },
        "outputId": "89c7eae7-4b83-42a4-c464-3c4d4b4c0fff"
      },
      "execution_count": 3,
      "outputs": [
        {
          "output_type": "stream",
          "name": "stdout",
          "text": [
            "Original list (strings): ['10', '20', '30', '40']\n",
            "After converting to integers: [10, 20, 30, 40]\n",
            "After converting to floats: [10.0, 20.0, 30.0, 40.0]\n",
            "After converting back to strings: ['10', '20', '30', '40']\n",
            "After converting to booleans: [True, True, True, True]\n"
          ]
        }
      ]
    },
    {
      "cell_type": "markdown",
      "source": [
        "**11. Write a program that checks if a number is positive, negative, or zero.?**"
      ],
      "metadata": {
        "id": "NXjTpMLE3gKv"
      }
    },
    {
      "cell_type": "code",
      "source": [
        "# Taking user input\n",
        "num = float(input(\"Enter a number: \"))\n",
        "\n",
        "# Checking conditions\n",
        "if num > 0:\n",
        "    print(f\"{num} is Positive.\")\n",
        "elif num < 0:\n",
        "    print(f\"{num} is Negative.\")\n",
        "else:\n",
        "    print(\"The number is Zero.\")\n"
      ],
      "metadata": {
        "id": "xCWXhCWs3mGP",
        "colab": {
          "base_uri": "https://localhost:8080/"
        },
        "outputId": "17703e61-c4cb-4052-d0b8-173790438f7e"
      },
      "execution_count": 7,
      "outputs": [
        {
          "output_type": "stream",
          "name": "stdout",
          "text": [
            "Enter a number: 2\n",
            "2.0 is Positive.\n"
          ]
        }
      ]
    },
    {
      "cell_type": "markdown",
      "source": [
        "**12.  Write a for loop to print numbers from 1 to 10.?**"
      ],
      "metadata": {
        "id": "qxMcyv4U3mnF"
      }
    },
    {
      "cell_type": "code",
      "source": [
        "for i in range(1, 11):\n",
        "    print(i)\n"
      ],
      "metadata": {
        "id": "ZozXvpOB3qX4",
        "colab": {
          "base_uri": "https://localhost:8080/"
        },
        "outputId": "7ef21c7e-7e1b-432e-e97c-21e0d04c9101"
      },
      "execution_count": 9,
      "outputs": [
        {
          "output_type": "stream",
          "name": "stdout",
          "text": [
            "1\n",
            "2\n",
            "3\n",
            "4\n",
            "5\n",
            "6\n",
            "7\n",
            "8\n",
            "9\n",
            "10\n"
          ]
        }
      ]
    },
    {
      "cell_type": "markdown",
      "source": [
        "**13. Write a Python program to find the sum of all even numbers between 1 and 50.?**"
      ],
      "metadata": {
        "id": "kiKBjNYa3rEX"
      }
    },
    {
      "cell_type": "code",
      "source": [
        "sum_even = 0\n",
        "\n",
        "for i in range(1, 51):   # loop from 1 to 50\n",
        "    if i % 2 == 0:       # check if even\n",
        "        sum_even += i    # add to sum\n",
        "\n",
        "print(\"Sum of even numbers between 1 and 50 is:\", sum_even)\n"
      ],
      "metadata": {
        "id": "rxsg_Lfk3u-i",
        "colab": {
          "base_uri": "https://localhost:8080/"
        },
        "outputId": "86459006-7fea-4954-9f01-ca181a9b3056"
      },
      "execution_count": 10,
      "outputs": [
        {
          "output_type": "stream",
          "name": "stdout",
          "text": [
            "Sum of even numbers between 1 and 50 is: 650\n"
          ]
        }
      ]
    },
    {
      "cell_type": "markdown",
      "source": [
        "**14. Write a program to reverse a string using a while loop.?**"
      ],
      "metadata": {
        "id": "jn7O__HS3vgs"
      }
    },
    {
      "cell_type": "code",
      "source": [
        "text = input(\"Enter a string: \")\n",
        "\n",
        "# Initialize variables\n",
        "reversed_text = \"\"\n",
        "i = len(text) - 1   # Start from last character\n",
        "\n",
        "# Loop backwards\n",
        "while i >= 0:\n",
        "    reversed_text += text[i]\n",
        "    i -= 1\n",
        "\n",
        "print(\"Reversed string:\", reversed_text)\n",
        "\n"
      ],
      "metadata": {
        "id": "8ooQ-03t3y31",
        "colab": {
          "base_uri": "https://localhost:8080/"
        },
        "outputId": "dc69bd75-a77a-4f32-cf42-98387f173d21"
      },
      "execution_count": 12,
      "outputs": [
        {
          "output_type": "stream",
          "name": "stdout",
          "text": [
            "Enter a string: vijay\n",
            "Reversed string: yajiv\n"
          ]
        }
      ]
    },
    {
      "cell_type": "markdown",
      "source": [
        "**15. Write a Python program to calculate the factorial of a number provided by the user using a while loop.?**"
      ],
      "metadata": {
        "id": "vqvvGbZG3zSB"
      }
    },
    {
      "cell_type": "code",
      "source": [
        "num = int(input(\"Enter a number: \"))\n",
        "\n",
        "# Initialize variables\n",
        "factorial = 1\n",
        "i = 1\n",
        "\n",
        "# While loop to calculate factorial\n",
        "while i <= num:\n",
        "    factorial *= i\n",
        "    i += 1\n",
        "\n",
        "# Display result\n",
        "print(f\"Factorial of {num} is: {factorial}\")\n",
        "\n"
      ],
      "metadata": {
        "id": "YSwWImCM34PH",
        "colab": {
          "base_uri": "https://localhost:8080/"
        },
        "outputId": "0eedc060-95c6-4540-fce4-e72c59f92c51"
      },
      "execution_count": 13,
      "outputs": [
        {
          "output_type": "stream",
          "name": "stdout",
          "text": [
            "Enter a number: 12\n",
            "Factorial of 12 is: 479001600\n"
          ]
        }
      ]
    }
  ]
}